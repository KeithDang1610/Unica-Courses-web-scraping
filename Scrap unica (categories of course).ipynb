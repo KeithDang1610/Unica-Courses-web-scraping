{
 "cells": [
  {
   "cell_type": "markdown",
   "id": "059304fc",
   "metadata": {},
   "source": [
    "## Scraping online courses infromation by categories\n",
    "### E.g. Marketing, IT, Lifestype, Languages, Soft skills, business, Sales....  "
   ]
  },
  {
   "cell_type": "code",
   "execution_count": null,
   "id": "22f3a4f2",
   "metadata": {},
   "outputs": [],
   "source": [
    "# import esstential libs\n",
    "import requests\n",
    "from selenium import webdriver\n",
    "from selenium.webdriver.common.keys import Keys\n",
    "from bs4 import BeautifulSoup\n",
    "import pandas as pd\n",
    "import time\n",
    "from selenium.webdriver.common.by import By\n",
    "from selenium.webdriver.support.wait import WebDriverWait\n",
    "from selenium.webdriver.support import expected_conditions as EC\n",
    "from selenium.common.exceptions import NoSuchElementException"
   ]
  },
  {
   "cell_type": "code",
   "execution_count": null,
   "id": "cc01bc9f",
   "metadata": {},
   "outputs": [],
   "source": [
    "df = pd.read_csv(r'C:\\Users\\DELL\\Downloads\\DSSP.csv')"
   ]
  },
  {
   "cell_type": "code",
   "execution_count": null,
   "id": "b0b859bb",
   "metadata": {},
   "outputs": [],
   "source": [
    "# Example of codes \n",
    "df = pd.read_csv(r'C:\\Users\\DELL\\Downloads\\DSSP.csv')\n",
    "driver = webdriver.Chrome(r'C:\\Users\\DELL\\Desktop\\WEB SCRAPING\\chromedriver.exe')\n",
    "driver.get('https://unica.vn/course/ngoai-ngu')\n",
    "while True:\n",
    "    soup = BeautifulSoup(driver.page_source, 'lxml')\n",
    "    courses = soup.find_all('a',class_ = \"link-course\")\n",
    "    for course in courses:\n",
    "        try:\n",
    "            discription = course.find('div', class_=\"description-course\").text\n",
    "            name = course.find('h3', class_='name-course').text\n",
    "            link = \"https://unica.vn\" + course.get('href') +\"?aff=556833\"\n",
    "            teacher = course.find('div', class_='name-gv').text.replace('\\n','')[44:]\n",
    "            image = \"https://unica.vn\" + course.find('img', class_='img-responsive').get('src')\n",
    "            price = course.find('div', class_ ='price_sale').text\n",
    "            ori_price = course.find('div', class_=\"price_origin\").text\n",
    "            #star = len(course.find_all('i',class_=\"fa fa-star co-or\"))\n",
    "            durian = course.find('p',class_='total_time').text.replace('\\n','')[98:]\n",
    "            #mems = course.find('span', 'star-rate').text\n",
    "            df = df.append({'URL ngoài':link, 'Tên':name,'Danh mục':f'Ngoại Ngữ, Giảng Viên > {teacher}', 'Mô tả':discription, 'Mô tả ngắn':f'{teacher}\\nThời gian:{durian}' ,'Hình ảnh':image,'Giá khuyến mãi':price,'Giá bán thường':ori_price}, ignore_index=True)\n",
    "        except:\n",
    "            pass\n",
    "    time.sleep(4)\n",
    "    try:\n",
    "        btn = driver.find_element('xpath','//*[@id=\"list_product\"]/div[2]/ul/li[7]/a')\n",
    "       # class_name = btn.get_attribute(\"class\")\n",
    "        driver.execute_script (\"arguments[0].click();\",btn)\n",
    "        \n",
    "    except NoSuchElementException:\n",
    "        print(\"element does not exist\")\n",
    "        break\n",
    "\n",
    "df['Mô tả ngắn']= df['Mô tả ngắn'].apply(lambda x: x.replace(',                                             ', ', '))\n",
    "df['Mô tả ngắn']= df['Mô tả ngắn'].apply(lambda x: x.replace('                                        ', ''))\n",
    "df['Mô tả ngắn'] = 'GV: '+df['Mô tả ngắn']\n",
    "df = df.drop(0)\n",
    "df['Loại']='external'\n",
    "df['Đã đăng']=1\n",
    "df['Nhãn nổi bật?']=0\n",
    "df['Hiển thị trong danh mục']='visible'\n",
    "df['Nội dung nút bấm']= 'Xem Chi Tiết'"
   ]
  },
  {
   "cell_type": "code",
   "execution_count": null,
   "id": "6375ab0e",
   "metadata": {},
   "outputs": [],
   "source": [
    "# Clean the errors and incorrect formats\n",
    "df['Giá bán thường']=df['Giá bán thường'].apply(lambda x: int(x.replace('\\n','').replace('                                                ','').replace('đ','').replace('.','')))\n",
    "df['Giá khuyến mãi']=df['Giá khuyến mãi'].apply(lambda x: int(x.replace('\\n','').replace('                                                ','').replace('đ','').replace('.','')))\n",
    "#df['Nội dung nút bấm']= 'Xem Chi Tiết'\n",
    "df.to_csv(r'C:\\Users\\DELL\\Desktop\\DSSP_unica_ngoaingu.csv')"
   ]
  },
  {
   "cell_type": "code",
   "execution_count": null,
   "id": "00e4f4ee",
   "metadata": {},
   "outputs": [],
   "source": [
    "df"
   ]
  },
  {
   "cell_type": "markdown",
   "id": "1b2acf69",
   "metadata": {},
   "source": [
    "# marketing\n",
    "# the marketing category"
   ]
  },
  {
   "cell_type": "code",
   "execution_count": null,
   "id": "5c3c6601",
   "metadata": {},
   "outputs": [],
   "source": [
    "df = pd.read_csv(r'C:\\Users\\DELL\\Downloads\\DSSP.csv')\n",
    "driver = webdriver.Chrome(r'C:\\Users\\DELL\\Desktop\\WEB SCRAPING\\chromedriver.exe')\n",
    "driver.get('https://unica.vn/course/marketing')\n",
    "while True:\n",
    "    soup = BeautifulSoup(driver.page_source, 'lxml')\n",
    "    courses = soup.find_all('a',class_ = \"link-course\")\n",
    "    for course in courses:\n",
    "        try:\n",
    "            discription = course.find('div', class_=\"description-course\").text\n",
    "            name = course.find('h3', class_='name-course').text\n",
    "            link = \"https://unica.vn\" + course.get('href') +\"?aff=556833\"\n",
    "            teacher = course.find('div', class_='name-gv').text.replace('\\n','')[44:]\n",
    "            image = \"https://unica.vn\" + course.find('img', class_='img-responsive').get('src')\n",
    "            price = course.find('div', class_ ='price_sale').text\n",
    "            ori_price = course.find('div', class_=\"price_origin\").text\n",
    "            #star = len(course.find_all('i',class_=\"fa fa-star co-or\"))\n",
    "            durian = course.find('p',class_='total_time').text.replace('\\n','')[98:]\n",
    "            #mems = course.find('span', 'star-rate').text\n",
    "            df = df.append({'URL ngoài':link, 'Tên':name, 'Danh mục':f'Marketing, Giảng Viên > {teacher}', 'Mô tả':discription, 'Mô tả ngắn':f'{teacher}\\nThời gian:{durian}' ,'Hình ảnh':image,'Giá khuyến mãi':price,'Giá bán thường':ori_price}, ignore_index=True)\n",
    "        except:\n",
    "            pass\n",
    "    time.sleep(4)\n",
    "    try:\n",
    "        btn = driver.find_element('xpath','//*[@id=\"list_product\"]/div[2]/ul/li[7]/a')\n",
    "       # class_name = btn.get_attribute(\"class\")\n",
    "        driver.execute_script (\"arguments[0].click();\",btn)\n",
    "        \n",
    "    except NoSuchElementException:\n",
    "        print(\"element does not exist\")\n",
    "        break\n",
    "\n",
    "# Cleaning the raw data for the first category\n",
    "df['Mô tả ngắn']= df['Mô tả ngắn'].apply(lambda x: x.replace(',                                             ', ', '))\n",
    "df['Mô tả ngắn']= df['Mô tả ngắn'].apply(lambda x: x.replace('                                        ', ''))\n",
    "df['Mô tả ngắn'] = 'GV: '+df['Mô tả ngắn']\n",
    "df = df.drop(0)\n",
    "df['Loại']='external'\n",
    "df['Đã đăng']=1\n",
    "df['Nhãn nổi bật?']=0\n",
    "df['Hiển thị trong danh mục']='visible'\n",
    "df['Nội dung nút bấm']= 'Xem Chi Tiết'\n"
   ]
  },
  {
   "cell_type": "code",
   "execution_count": null,
   "id": "f1b2efd2",
   "metadata": {},
   "outputs": [],
   "source": [
    "df['Giá bán thường']=df['Giá bán thường'].apply(lambda x: int(x.replace('\\n','').replace('                                                ','').replace('đ','').replace('.','')))\n",
    "df['Giá khuyến mãi']=df['Giá khuyến mãi'].apply(lambda x: int(x.replace('\\n','').replace('                                                ','').replace('đ','').replace('.','')))\n",
    "df['Nội dung nút bấm']= 'Xem Chi Tiết'\n",
    "df.to_csv(r'C:\\Users\\DELL\\Desktop\\DSSP_unica_market.csv')"
   ]
  },
  {
   "cell_type": "markdown",
   "id": "c4765f7b",
   "metadata": {},
   "source": [
    "# khóa học tin học\n",
    "# All the courses in office information category"
   ]
  },
  {
   "cell_type": "code",
   "execution_count": null,
   "id": "84682a4c",
   "metadata": {},
   "outputs": [],
   "source": [
    "df = pd.read_csv(r'C:\\Users\\DELL\\Downloads\\DSSP.csv')\n",
    "driver = webdriver.Chrome(r'C:\\Users\\DELL\\Desktop\\WEB SCRAPING\\chromedriver.exe')\n",
    "driver.get('https://unica.vn/course/tin-hoc-van-phong')\n",
    "while True:\n",
    "    soup = BeautifulSoup(driver.page_source, 'lxml')\n",
    "    courses = soup.find_all('a',class_ = \"link-course\")\n",
    "    for course in courses:\n",
    "        try:\n",
    "            discription = course.find('div', class_=\"description-course\").text\n",
    "            name = course.find('h3', class_='name-course').text\n",
    "            link = \"https://unica.vn\" + course.get('href') +\"?aff=556833\"\n",
    "            teacher = course.find('div', class_='name-gv').text.replace('\\n','')[44:]\n",
    "            image = \"https://unica.vn\" + course.find('img', class_='img-responsive').get('src')\n",
    "            price = course.find('div', class_ ='price_sale').text\n",
    "            ori_price = course.find('div', class_=\"price_origin\").text\n",
    "            #star = len(course.find_all('i',class_=\"fa fa-star co-or\"))\n",
    "            durian = course.find('p',class_='total_time').text.replace('\\n','')[98:]\n",
    "            #mems = course.find('span', 'star-rate').text\n",
    "            df = df.append({'URL ngoài':link, 'Danh mục':f'Tin Học Văn Phòng, Giảng Viên > {teacher}', 'Tên':name, 'Mô tả':discription, 'Mô tả ngắn':f'{teacher}\\nThời gian: {durian}' ,'Hình ảnh':image,'Giá khuyến mãi':price,'Giá bán thường':ori_price}, ignore_index=True)\n",
    "        except:\n",
    "            pass\n",
    "    time.sleep(4)\n",
    "    try:\n",
    "        btn = driver.find_element('xpath','//*[@id=\"list_product\"]/div[2]/ul/li[7]/a')\n",
    "       # class_name = btn.get_attribute(\"class\")\n",
    "        driver.execute_script (\"arguments[0].click();\",btn)\n",
    "        \n",
    "    except NoSuchElementException:\n",
    "        print(\"element does not exist\")\n",
    "        break\n",
    "\n",
    "df['Mô tả ngắn']= df['Mô tả ngắn'].apply(lambda x: x.replace(',                                             ', ', '))\n",
    "df['Mô tả ngắn']= df['Mô tả ngắn'].apply(lambda x: x.replace('                                        ', ''))\n",
    "df['Mô tả ngắn'] = 'GV: '+df['Mô tả ngắn']\n",
    "df = df.drop(0)\n",
    "df['Loại']='external'\n",
    "df['Đã đăng']=1\n",
    "df['Nhãn nổi bật?']=0\n",
    "df['Hiển thị trong danh mục']='visible'\n",
    "df['Nội dung nút bấm']= 'Xem Chi Tiết'"
   ]
  },
  {
   "cell_type": "code",
   "execution_count": null,
   "id": "07ff1345",
   "metadata": {},
   "outputs": [],
   "source": [
    "df['Giá bán thường']=df['Giá bán thường'].apply(lambda x: int(x.replace('\\n','').replace('                                                ','').replace('đ','').replace('.','')))\n",
    "df['Giá khuyến mãi']=df['Giá khuyến mãi'].apply(lambda x: int(x.replace('\\n','').replace('                                                ','').replace('đ','').replace('.','')))\n",
    "df['Nội dung nút bấm']= 'Xem Chi Tiết'\n",
    "df.to_csv(r'C:\\Users\\DELL\\Desktop\\DSSP_unica_tinhoc.csv')"
   ]
  },
  {
   "cell_type": "markdown",
   "id": "f39b73e3",
   "metadata": {},
   "source": [
    "# Khóa học kinh doanh\n",
    "# All the courses in business categories"
   ]
  },
  {
   "cell_type": "code",
   "execution_count": null,
   "id": "16e485c0",
   "metadata": {},
   "outputs": [],
   "source": [
    "df = pd.read_csv(r'C:\\Users\\DELL\\Downloads\\DSSP.csv')\n",
    "driver = webdriver.Chrome(r'C:\\Users\\DELL\\Desktop\\WEB SCRAPING\\chromedriver.exe')\n",
    "driver.get('https://unica.vn/course/kinh-doanh-va-khoi-nghiep')\n",
    "while True:\n",
    "    soup = BeautifulSoup(driver.page_source, 'lxml')\n",
    "    courses = soup.find_all('a',class_ = \"link-course\")\n",
    "    for course in courses:\n",
    "        try:\n",
    "            discription = course.find('div', class_=\"description-course\").text\n",
    "            name = course.find('h3', class_='name-course').text\n",
    "            link = \"https://unica.vn\" + course.get('href') +\"?aff=556833\"\n",
    "            teacher = course.find('div', class_='name-gv').text.replace('\\n','')[44:]\n",
    "            image = \"https://unica.vn\" + course.find('img', class_='img-responsive').get('src')\n",
    "            price = course.find('div', class_ ='price_sale').text\n",
    "            ori_price = course.find('div', class_=\"price_origin\").text\n",
    "            #star = len(course.find_all('i',class_=\"fa fa-star co-or\"))\n",
    "            durian = course.find('p',class_='total_time').text.replace('\\n','')[98:]\n",
    "            #mems = course.find('span', 'star-rate').text\n",
    "            df = df.append({'URL ngoài':link,'Danh mục':f'Kinh Doanh & Khởi Nghiệp, Giảng Viên > {teacher}', 'Tên':name, 'Mô tả':discription, 'Mô tả ngắn':f'{teacher}\\nThời gian:{durian}' ,'Hình ảnh':image,'Giá khuyến mãi':price,'Giá bán thường':ori_price}, ignore_index=True)\n",
    "        except:\n",
    "            pass\n",
    "    time.sleep(4)\n",
    "    try:\n",
    "        btn = driver.find_element('xpath','//*[@id=\"list_product\"]/div[2]/ul/li[7]/a')\n",
    "       # class_name = btn.get_attribute(\"class\")\n",
    "        driver.execute_script (\"arguments[0].click();\",btn)\n",
    "        \n",
    "    except NoSuchElementException:\n",
    "        print(\"element does not exist\")\n",
    "        break\n",
    "\n",
    "df['Mô tả ngắn']= df['Mô tả ngắn'].apply(lambda x: x.replace(',                                             ', ', '))\n",
    "df['Mô tả ngắn']= df['Mô tả ngắn'].apply(lambda x: x.replace('                                        ', ''))\n",
    "df['Mô tả ngắn'] = 'GV: '+df['Mô tả ngắn']\n",
    "df = df.drop(0)\n",
    "df['Loại']='external'\n",
    "df['Đã đăng']=1\n",
    "df['Nhãn nổi bật?']=0\n",
    "df['Hiển thị trong danh mục']='visible'\n",
    "df['Nội dung nút bấm']= 'Xem Chi Tiết'\n"
   ]
  },
  {
   "cell_type": "code",
   "execution_count": null,
   "id": "11b47547",
   "metadata": {},
   "outputs": [],
   "source": [
    "df['Giá bán thường']=df['Giá bán thường'].apply(lambda x: int(x.replace('\\n','').replace('                                                ','').replace('đ','').replace('.','')))\n",
    "df['Giá khuyến mãi']=df['Giá khuyến mãi'].apply(lambda x: int(x.replace('\\n','').replace('                                                ','').replace('đ','').replace('.','')))\n",
    "df.to_csv(r'C:\\Users\\DELL\\Desktop\\DSSP_unica_KD.csv')"
   ]
  },
  {
   "cell_type": "markdown",
   "id": "ad0491fe",
   "metadata": {},
   "source": [
    "# Khóa học thiết kế\n",
    "# All the courses in Design categories"
   ]
  },
  {
   "cell_type": "code",
   "execution_count": null,
   "id": "ce12b613",
   "metadata": {},
   "outputs": [],
   "source": [
    "df = pd.read_csv(r'C:\\Users\\DELL\\Downloads\\DSSP.csv')\n",
    "driver = webdriver.Chrome(r'C:\\Users\\DELL\\Desktop\\WEB SCRAPING\\chromedriver.exe')\n",
    "driver.get('https://unica.vn/course/thiet-ke')\n",
    "while True:\n",
    "    soup = BeautifulSoup(driver.page_source, 'lxml')\n",
    "    courses = soup.find_all('a',class_ = \"link-course\")\n",
    "    for course in courses:\n",
    "        try:\n",
    "            discription = course.find('div', class_=\"description-course\").text\n",
    "            name = course.find('h3', class_='name-course').text\n",
    "            link = \"https://unica.vn\" + course.get('href') +\"?aff=556833\"\n",
    "            teacher = course.find('div', class_='name-gv').text.replace('\\n','')[44:]\n",
    "            image = \"https://unica.vn\" + course.find('img', class_='img-responsive').get('src')\n",
    "            price = course.find('div', class_ ='price_sale').text\n",
    "            ori_price = course.find('div', class_=\"price_origin\").text\n",
    "            #star = len(course.find_all('i',class_=\"fa fa-star co-or\"))\n",
    "            durian = course.find('p',class_='total_time').text.replace('\\n','')[98:]\n",
    "            #mems = course.find('span', 'star-rate').text\n",
    "            df = df.append({'URL ngoài':link,'Danh mục':f'Thiết kế, Giảng Viên > {teacher}', 'Tên':name, 'Mô tả':discription, 'Mô tả ngắn':f'{teacher}\\nThời gian: {durian}' ,'Hình ảnh':image,'Giá khuyến mãi':price,'Giá bán thường':ori_price}, ignore_index=True)\n",
    "        except:\n",
    "            pass\n",
    "    time.sleep(4)\n",
    "    try:\n",
    "        btn = driver.find_element('xpath','//*[@id=\"list_product\"]/div[2]/ul/li[7]/a')\n",
    "       # class_name = btn.get_attribute(\"class\")\n",
    "        driver.execute_script (\"arguments[0].click();\",btn)\n",
    "        \n",
    "    except NoSuchElementException:\n",
    "        print(\"element does not exist\")\n",
    "        break\n",
    "        \n",
    "\n",
    "df['Mô tả ngắn']= df['Mô tả ngắn'].apply(lambda x: x.replace(',                                             ', ', '))\n",
    "df['Mô tả ngắn']= df['Mô tả ngắn'].apply(lambda x: x.replace('                                        ', ''))\n",
    "df['Mô tả ngắn'] = 'GV: '+df['Mô tả ngắn']\n",
    "df = df.drop(0)\n",
    "df['Loại']='external'\n",
    "df['Đã đăng']=1\n",
    "df['Nhãn nổi bật?']=0\n",
    "df['Hiển thị trong danh mục']='visible'\n",
    "df['Nội dung nút bấm']= 'Xem Chi Tiết'\n",
    "\n",
    "df.to_csv(r'C:\\Users\\DELL\\Desktop\\DSSP_unica_TK.csv')"
   ]
  },
  {
   "cell_type": "code",
   "execution_count": null,
   "id": "be7f0ce8",
   "metadata": {},
   "outputs": [],
   "source": [
    "df['Giá bán thường']=df['Giá bán thường'].apply(lambda x: int(x.replace('\\n','').replace('                                                ','').replace('đ','').replace('.','')))\n",
    "df['Giá khuyến mãi']=df['Giá khuyến mãi'].apply(lambda x: int(x.replace('\\n','').replace('                                                ','').replace('đ','').replace('.','')))\n",
    "df.to_csv(r'C:\\Users\\DELL\\Desktop\\DSSP_unica_TK.csv')"
   ]
  },
  {
   "cell_type": "markdown",
   "id": "227a9a68",
   "metadata": {},
   "source": [
    "# Kỹ năng mềm\n",
    "# All the courses in Soft Skills categories"
   ]
  },
  {
   "cell_type": "code",
   "execution_count": null,
   "id": "39f5cd33",
   "metadata": {},
   "outputs": [],
   "source": [
    "df = pd.read_csv(r'C:\\Users\\DELL\\Downloads\\DSSP.csv')\n",
    "driver = webdriver.Chrome(r'C:\\Users\\DELL\\Desktop\\WEB SCRAPING\\chromedriver.exe')\n",
    "driver.get('https://unica.vn/course/ky-nang-mem')\n",
    "while True:\n",
    "    soup = BeautifulSoup(driver.page_source, 'lxml')\n",
    "    courses = soup.find_all('a',class_ = \"link-course\")\n",
    "    for course in courses:\n",
    "        try:\n",
    "            discription = course.find('div', class_=\"description-course\").text\n",
    "            name = course.find('h3', class_='name-course').text\n",
    "            link = \"https://unica.vn\" + course.get('href') +\"?aff=556833\"\n",
    "            teacher = course.find('div', class_='name-gv').text.replace('\\n','')[44:]\n",
    "            image = \"https://unica.vn\" + course.find('img', class_='img-responsive').get('src')\n",
    "            price = course.find('div', class_ ='price_sale').text\n",
    "            ori_price = course.find('div', class_=\"price_origin\").text\n",
    "            #star = len(course.find_all('i',class_=\"fa fa-star co-or\"))\n",
    "            durian = course.find('p',class_='total_time').text.replace('\\n','')[98:]\n",
    "            #mems = course.find('span', 'star-rate').text\n",
    "            df = df.append({'URL ngoài':link,'Danh mục':f'Kỹ Năng Mềm, Giảng Viên > {teacher}', 'Tên':name, 'Mô tả':discription, 'Mô tả ngắn':f'{teacher}\\nThời gian: {durian}' ,'Hình ảnh':image,'Giá khuyến mãi':price,'Giá bán thường':ori_price}, ignore_index=True)\n",
    "        except:\n",
    "            pass\n",
    "    time.sleep(4)\n",
    "    try:\n",
    "        btn = driver.find_element('xpath','//*[@id=\"list_product\"]/div[2]/ul/li[7]/a')\n",
    "       # class_name = btn.get_attribute(\"class\")\n",
    "        driver.execute_script (\"arguments[0].click();\",btn)\n",
    "        \n",
    "    except NoSuchElementException:\n",
    "        print(\"element does not exist\")\n",
    "        break\n",
    "        \n",
    "\n",
    "df['Mô tả ngắn']= df['Mô tả ngắn'].apply(lambda x: x.replace(',                                             ', ', '))\n",
    "df['Mô tả ngắn']= df['Mô tả ngắn'].apply(lambda x: x.replace('                                        ', ''))\n",
    "df['Mô tả ngắn'] = 'GV: '+df['Mô tả ngắn']\n",
    "df = df.drop(0)\n",
    "df['Loại']='external'\n",
    "df['Đã đăng']=1\n",
    "df['Nhãn nổi bật?']=0\n",
    "df['Hiển thị trong danh mục']='visible'\n",
    "df['Nội dung nút bấm']= 'Xem Chi Tiết'"
   ]
  },
  {
   "cell_type": "code",
   "execution_count": null,
   "id": "a24cd2b4",
   "metadata": {},
   "outputs": [],
   "source": [
    "df['Giá bán thường']=df['Giá bán thường'].apply(lambda x: int(x.replace('\\n','').replace('                                                ','').replace('đ','').replace('.','')))\n",
    "df['Giá khuyến mãi']=df['Giá khuyến mãi'].apply(lambda x: int(x.replace('\\n','').replace('                                                ','').replace('đ','').replace('.','')))\n",
    "df.to_csv(r'C:\\Users\\DELL\\Desktop\\DSSP_unica_KNM.csv')"
   ]
  },
  {
   "cell_type": "markdown",
   "id": "7781f2f9",
   "metadata": {},
   "source": [
    "# Sales"
   ]
  },
  {
   "cell_type": "code",
   "execution_count": null,
   "id": "73a06965",
   "metadata": {},
   "outputs": [],
   "source": [
    "df = pd.read_csv(r'C:\\Users\\DELL\\Downloads\\DSSP.csv')\n",
    "driver = webdriver.Chrome(r'C:\\Users\\DELL\\Desktop\\WEB SCRAPING\\chromedriver.exe')\n",
    "driver.get('https://unica.vn/course/sales-ban-hang')\n",
    "while True:\n",
    "    soup = BeautifulSoup(driver.page_source, 'lxml')\n",
    "    courses = soup.find_all('a',class_ = \"link-course\")\n",
    "    for course in courses:\n",
    "        try:\n",
    "            discription = course.find('div', class_=\"description-course\").text\n",
    "            name = course.find('h3', class_='name-course').text\n",
    "            link = \"https://unica.vn\" + course.get('href') +\"?aff=556833\"\n",
    "            teacher = course.find('div', class_='name-gv').text.replace('\\n','')[44:]\n",
    "            image = \"https://unica.vn\" + course.find('img', class_='img-responsive').get('src')\n",
    "            price = course.find('div', class_ ='price_sale').text\n",
    "            ori_price = course.find('div', class_=\"price_origin\").text\n",
    "            #star = len(course.find_all('i',class_=\"fa fa-star co-or\"))\n",
    "            durian = course.find('p',class_='total_time').text.replace('\\n','')[98:]\n",
    "            #mems = course.find('span', 'star-rate').text\n",
    "            df = df.append({'URL ngoài':link,'Danh mục':f'Kỹ năng Bán hàng, Giảng Viên > {teacher}', 'Tên':name, 'Mô tả':discription, 'Mô tả ngắn':f'{teacher}\\nThời gian: {durian}' ,'Hình ảnh':image,'Giá khuyến mãi':price,'Giá bán thường':ori_price}, ignore_index=True)\n",
    "        except:\n",
    "            pass\n",
    "    time.sleep(4)\n",
    "    try:\n",
    "        btn = driver.find_element('xpath','//*[@id=\"list_product\"]/div[2]/ul/li[7]/a')\n",
    "       # class_name = btn.get_attribute(\"class\")\n",
    "        driver.execute_script (\"arguments[0].click();\",btn)\n",
    "        \n",
    "    except NoSuchElementException:\n",
    "        print(\"element does not exist\")\n",
    "        break\n",
    "        \n",
    "\n",
    "df['Mô tả ngắn']= df['Mô tả ngắn'].apply(lambda x: x.replace(',                                             ', ', '))\n",
    "df['Mô tả ngắn']= df['Mô tả ngắn'].apply(lambda x: x.replace('                                        ', ''))\n",
    "df['Mô tả ngắn'] = 'GV: '+df['Mô tả ngắn']\n",
    "df = df.drop(0)\n",
    "df['Loại']='external'\n",
    "df['Đã đăng']=1\n",
    "df['Nhãn nổi bật?']=0\n",
    "df['Hiển thị trong danh mục']='visible'\n",
    "df['Nội dung nút bấm']= 'Xem Chi Tiết'"
   ]
  },
  {
   "cell_type": "code",
   "execution_count": null,
   "id": "a1101b2a",
   "metadata": {},
   "outputs": [],
   "source": [
    "df['Giá bán thường']=df['Giá bán thường'].apply(lambda x: int(x.replace('\\n','').replace('                                                ','').replace('đ','').replace('.','')))\n",
    "df['Giá khuyến mãi']=df['Giá khuyến mãi'].apply(lambda x: int(x.replace('\\n','').replace('                                                ','').replace('đ','').replace('.','')))\n",
    "df.to_csv(r'C:\\Users\\DELL\\Desktop\\DSSP_unica_sales.csv')"
   ]
  },
  {
   "cell_type": "markdown",
   "id": "e140094e",
   "metadata": {},
   "source": [
    "# Phong cách sống"
   ]
  },
  {
   "cell_type": "code",
   "execution_count": null,
   "id": "2734b8db",
   "metadata": {},
   "outputs": [],
   "source": [
    "df = pd.read_csv(r'C:\\Users\\DELL\\Downloads\\DSSP.csv')\n",
    "driver = webdriver.Chrome(r'C:\\Users\\DELL\\Desktop\\WEB SCRAPING\\chromedriver.exe')\n",
    "driver.get('https://unica.vn/course/phong-cach-song')\n",
    "while True:\n",
    "    soup = BeautifulSoup(driver.page_source, 'lxml')\n",
    "    courses = soup.find_all('a',class_ = \"link-course\")\n",
    "    for course in courses:\n",
    "        try:\n",
    "            discription = course.find('div', class_=\"description-course\").text\n",
    "            name = course.find('h3', class_='name-course').text\n",
    "            link = \"https://unica.vn\" + course.get('href') +\"?aff=556833\"\n",
    "            teacher = course.find('div', class_='name-gv').text.replace('\\n','')[44:]\n",
    "            image = \"https://unica.vn\" + course.find('img', class_='img-responsive').get('src')\n",
    "            price = course.find('div', class_ ='price_sale').text\n",
    "            ori_price = course.find('div', class_=\"price_origin\").text\n",
    "            #star = len(course.find_all('i',class_=\"fa fa-star co-or\"))\n",
    "            durian = course.find('p',class_='total_time').text.replace('\\n','')[98:]\n",
    "            #mems = course.find('span', 'star-rate').text\n",
    "            df = df.append({'URL ngoài':link,'Danh mục':f'Phong Cách Sống, Giảng Viên > {teacher}', 'Tên':name, 'Mô tả':discription, 'Mô tả ngắn':f'{teacher}\\nThời gian: {durian}' ,'Hình ảnh':image,'Giá khuyến mãi':price,'Giá bán thường':ori_price}, ignore_index=True)\n",
    "        except:\n",
    "            pass\n",
    "    time.sleep(4)\n",
    "    try:\n",
    "        btn = driver.find_element('xpath','//*[@id=\"list_product\"]/div[2]/ul/li[7]/a')\n",
    "       # class_name = btn.get_attribute(\"class\")\n",
    "        driver.execute_script (\"arguments[0].click();\",btn)\n",
    "        \n",
    "    except NoSuchElementException:\n",
    "        print(\"element does not exist\")\n",
    "        break\n",
    "        \n",
    "\n",
    "df['Mô tả ngắn']= df['Mô tả ngắn'].apply(lambda x: x.replace(',                                             ', ', '))\n",
    "df['Mô tả ngắn']= df['Mô tả ngắn'].apply(lambda x: x.replace('                                        ', ''))\n",
    "df['Mô tả ngắn'] = 'GV: '+df['Mô tả ngắn']\n",
    "df = df.drop(0)\n",
    "df['Loại']='external'\n",
    "df['Đã đăng']=1\n",
    "df['Nhãn nổi bật?']=0\n",
    "df['Hiển thị trong danh mục']='visible'\n",
    "df['Nội dung nút bấm']= 'Xem Chi Tiết'"
   ]
  },
  {
   "cell_type": "code",
   "execution_count": null,
   "id": "f650b401",
   "metadata": {},
   "outputs": [],
   "source": [
    "df['Giá bán thường']=df['Giá bán thường'].apply(lambda x: int(x.replace('\\n','').replace('                                                ','').replace('đ','').replace('.','')))\n",
    "df['Giá khuyến mãi']=df['Giá khuyến mãi'].apply(lambda x: int(x.replace('\\n','').replace('                                                ','').replace('đ','').replace('.','')))\n",
    "df.to_csv(r'C:\\Users\\DELL\\Desktop\\DSSP_unica_lifestyle.csv')"
   ]
  },
  {
   "cell_type": "markdown",
   "id": "6b7a9ed8",
   "metadata": {},
   "source": [
    "# Nuôi dạy con"
   ]
  },
  {
   "cell_type": "code",
   "execution_count": null,
   "id": "e9048d90",
   "metadata": {},
   "outputs": [],
   "source": [
    "df = pd.read_csv(r'C:\\Users\\DELL\\Downloads\\DSSP.csv')\n",
    "driver = webdriver.Chrome(r'C:\\Users\\DELL\\Desktop\\WEB SCRAPING\\chromedriver.exe')\n",
    "driver.get('https://unica.vn/course/nuoi-day-con')\n",
    "while True:\n",
    "    soup = BeautifulSoup(driver.page_source, 'lxml')\n",
    "    courses = soup.find_all('a',class_ = \"link-course\")\n",
    "    for course in courses:\n",
    "        try:\n",
    "            discription = course.find('div', class_=\"description-course\").text\n",
    "            name = course.find('h3', class_='name-course').text\n",
    "            link = \"https://unica.vn\" + course.get('href') +\"?aff=556833\"\n",
    "            teacher = course.find('div', class_='name-gv').text.replace('\\n','')[44:]\n",
    "            image = \"https://unica.vn\" + course.find('img', class_='img-responsive').get('src')\n",
    "            price = course.find('div', class_ ='price_sale').text\n",
    "            ori_price = course.find('div', class_=\"price_origin\").text\n",
    "            #star = len(course.find_all('i',class_=\"fa fa-star co-or\"))\n",
    "            durian = course.find('p',class_='total_time').text.replace('\\n','')[98:]\n",
    "            #mems = course.find('span', 'star-rate').text\n",
    "            df = df.append({'URL ngoài':link,'Danh mục':f'Nuôi Dạy Con, Giảng Viên > {teacher}', 'Tên':name, 'Mô tả':discription, 'Mô tả ngắn':f'{teacher}\\nThời gian: {durian}' ,'Hình ảnh':image,'Giá khuyến mãi':price,'Giá bán thường':ori_price}, ignore_index=True)\n",
    "        except:\n",
    "            pass\n",
    "    time.sleep(4)\n",
    "    try:\n",
    "        btn = driver.find_element('xpath','//*[@id=\"list_product\"]/div[2]/ul/li[7]/a')\n",
    "       # class_name = btn.get_attribute(\"class\")\n",
    "        driver.execute_script (\"arguments[0].click();\",btn)\n",
    "        \n",
    "    except NoSuchElementException:\n",
    "        print(\"element does not exist\")\n",
    "        break\n",
    "        \n",
    "\n",
    "df['Mô tả ngắn']= df['Mô tả ngắn'].apply(lambda x: x.replace(',                                             ', ', '))\n",
    "df['Mô tả ngắn']= df['Mô tả ngắn'].apply(lambda x: x.replace('                                        ', ''))\n",
    "df['Mô tả ngắn'] = 'GV: '+df['Mô tả ngắn']\n",
    "df = df.drop(0)\n",
    "df['Loại']='external'\n",
    "df['Đã đăng']=1\n",
    "df['Nhãn nổi bật?']=0\n",
    "df['Hiển thị trong danh mục']='visible'\n",
    "df['Nội dung nút bấm']= 'Xem Chi Tiết'"
   ]
  },
  {
   "cell_type": "code",
   "execution_count": null,
   "id": "1acf77f7",
   "metadata": {},
   "outputs": [],
   "source": [
    "df['Giá bán thường']=df['Giá bán thường'].apply(lambda x: int(x.replace('\\n','').replace('                                                ','').replace('đ','').replace('.','')))\n",
    "df['Giá khuyến mãi']=df['Giá khuyến mãi'].apply(lambda x: int(x.replace('\\n','').replace('                                                ','').replace('đ','').replace('.','')))\n",
    "df.to_csv(r'C:\\Users\\DELL\\Desktop\\DSSP_unica_nuoidaytre.csv')"
   ]
  },
  {
   "cell_type": "markdown",
   "id": "bd5c686d",
   "metadata": {},
   "source": [
    "# Công nghệ thông tin"
   ]
  },
  {
   "cell_type": "code",
   "execution_count": null,
   "id": "0e73ead9",
   "metadata": {},
   "outputs": [],
   "source": [
    "df = pd.read_csv(r'C:\\Users\\DELL\\Downloads\\DSSP.csv')\n",
    "driver = webdriver.Chrome(r'C:\\Users\\DELL\\Desktop\\WEB SCRAPING\\chromedriver.exe')\n",
    "driver.get('https://unica.vn/course/cong-nghe-thong-tin')\n",
    "while True:\n",
    "    soup = BeautifulSoup(driver.page_source, 'lxml')\n",
    "    courses = soup.find_all('a',class_ = \"link-course\")\n",
    "    for course in courses:\n",
    "        try:\n",
    "            discription = course.find('div', class_=\"description-course\").text\n",
    "            name = course.find('h3', class_='name-course').text\n",
    "            link = \"https://unica.vn\" + course.get('href') +\"?aff=556833\"\n",
    "            teacher = course.find('div', class_='name-gv').text.replace('\\n','')[44:]\n",
    "            image = \"https://unica.vn\" + course.find('img', class_='img-responsive').get('src')\n",
    "            price = course.find('div', class_ ='price_sale').text\n",
    "            ori_price = course.find('div', class_=\"price_origin\").text\n",
    "            #star = len(course.find_all('i',class_=\"fa fa-star co-or\"))\n",
    "            durian = course.find('p',class_='total_time').text.replace('\\n','')[98:]\n",
    "            #mems = course.find('span', 'star-rate').text\n",
    "            df = df.append({'URL ngoài':link,'Danh mục':f'Công Nghệ Thông Tin, Giảng Viên > {teacher}', 'Tên':name, 'Mô tả':discription, 'Mô tả ngắn':f'{teacher}\\nThời gian: {durian}' ,'Hình ảnh':image,'Giá khuyến mãi':price,'Giá bán thường':ori_price}, ignore_index=True)\n",
    "        except:\n",
    "            pass\n",
    "    time.sleep(4)\n",
    "    try:\n",
    "        btn = driver.find_element('xpath','//*[@id=\"list_product\"]/div[2]/ul/li[7]/a')\n",
    "       # class_name = btn.get_attribute(\"class\")\n",
    "        driver.execute_script (\"arguments[0].click();\",btn)\n",
    "        \n",
    "    except NoSuchElementException:\n",
    "        print(\"element does not exist\")\n",
    "        break\n",
    "        \n",
    "\n",
    "df['Mô tả ngắn']= df['Mô tả ngắn'].apply(lambda x: x.replace(',                                             ', ', '))\n",
    "df['Mô tả ngắn']= df['Mô tả ngắn'].apply(lambda x: x.replace('                                        ', ''))\n",
    "df['Mô tả ngắn'] = 'GV: '+df['Mô tả ngắn']\n",
    "df = df.drop(0)\n",
    "df['Loại']='external'\n",
    "df['Đã đăng']=1\n",
    "df['Nhãn nổi bật?']=0\n",
    "df['Hiển thị trong danh mục']='visible'\n",
    "df['Nội dung nút bấm']= 'Xem Chi Tiết'"
   ]
  },
  {
   "cell_type": "code",
   "execution_count": null,
   "id": "f81cbfcd",
   "metadata": {},
   "outputs": [],
   "source": [
    "df['Giá bán thường']=df['Giá bán thường'].apply(lambda x: int(x.replace('\\n','').replace('                                                ','').replace('đ','').replace('.','')))\n",
    "df['Giá khuyến mãi']=df['Giá khuyến mãi'].apply(lambda x: int(x.replace('\\n','').replace('                                                ','').replace('đ','').replace('.','')))\n",
    "df.to_csv(r'C:\\Users\\DELL\\Desktop\\DSSP_unica_IT.csv')"
   ]
  },
  {
   "cell_type": "markdown",
   "id": "879a187c",
   "metadata": {},
   "source": [
    "# Sức khỏe"
   ]
  },
  {
   "cell_type": "code",
   "execution_count": null,
   "id": "0da825c5",
   "metadata": {},
   "outputs": [],
   "source": [
    "df = pd.read_csv(r'C:\\Users\\DELL\\Downloads\\DSSP.csv')\n",
    "driver = webdriver.Chrome(r'C:\\Users\\DELL\\Desktop\\WEB SCRAPING\\chromedriver.exe')\n",
    "driver.get('https://unica.vn/course/suc-khoe')\n",
    "while True:\n",
    "    soup = BeautifulSoup(driver.page_source, 'lxml')\n",
    "    courses = soup.find_all('a',class_ = \"link-course\")\n",
    "    for course in courses:\n",
    "        try:\n",
    "            discription = course.find('div', class_=\"description-course\").text\n",
    "            name = course.find('h3', class_='name-course').text\n",
    "            link = \"https://unica.vn\" + course.get('href') +\"?aff=556833\"\n",
    "            teacher = course.find('div', class_='name-gv').text.replace('\\n','')[44:]\n",
    "            image = \"https://unica.vn\" + course.find('img', class_='img-responsive').get('src')\n",
    "            price = course.find('div', class_ ='price_sale').text\n",
    "            ori_price = course.find('div', class_=\"price_origin\").text\n",
    "            #star = len(course.find_all('i',class_=\"fa fa-star co-or\"))\n",
    "            durian = course.find('p',class_='total_time').text.replace('\\n','')[98:]\n",
    "            #mems = course.find('span', 'star-rate').text\n",
    "            df = df.append({'URL ngoài':link,'Danh mục':f'Sức Khỏe & Cuộc Sống, Giảng Viên > {teacher}', 'Tên':name, 'Mô tả':discription, 'Mô tả ngắn':f'{teacher}\\nThời gian: {durian}' ,'Hình ảnh':image,'Giá khuyến mãi':price,'Giá bán thường':ori_price}, ignore_index=True)\n",
    "        except:\n",
    "            pass\n",
    "    time.sleep(4)\n",
    "    try:\n",
    "        btn = driver.find_element('xpath','//*[@id=\"list_product\"]/div[2]/ul/li[7]/a')\n",
    "       # class_name = btn.get_attribute(\"class\")\n",
    "        driver.execute_script (\"arguments[0].click();\",btn)\n",
    "        \n",
    "    except NoSuchElementException:\n",
    "        print(\"element does not exist\")\n",
    "        break\n",
    "        \n",
    "\n",
    "df['Mô tả ngắn']= df['Mô tả ngắn'].apply(lambda x: x.replace(',                                             ', ', '))\n",
    "df['Mô tả ngắn']= df['Mô tả ngắn'].apply(lambda x: x.replace('                                        ', ''))\n",
    "df['Mô tả ngắn'] = 'GV: '+df['Mô tả ngắn']\n",
    "df = df.drop(0)\n",
    "df['Loại']='external'\n",
    "df['Đã đăng']=1\n",
    "df['Nhãn nổi bật?']=0\n",
    "df['Hiển thị trong danh mục']='visible'\n",
    "df['Nội dung nút bấm']= 'Xem Chi Tiết'"
   ]
  },
  {
   "cell_type": "code",
   "execution_count": null,
   "id": "6c84ccb7",
   "metadata": {},
   "outputs": [],
   "source": [
    "df['Giá bán thường']=df['Giá bán thường'].apply(lambda x: int(x.replace('\\n','').replace('                                                ','').replace('đ','').replace('.','')))\n",
    "df['Giá khuyến mãi']=df['Giá khuyến mãi'].apply(lambda x: int(x.replace('\\n','').replace('                                                ','').replace('đ','').replace('.','')))\n",
    "df.to_csv(r'C:\\Users\\DELL\\Desktop\\DSSP_unica_suc-khoe.csv')"
   ]
  },
  {
   "cell_type": "code",
   "execution_count": null,
   "id": "65be8de7",
   "metadata": {},
   "outputs": [],
   "source": [
    "df=pd.read_csv(r'C:\\Users\\DELL\\Downloads\\wc-product-export-19-5-2023-1684491570211.csv')"
   ]
  },
  {
   "cell_type": "code",
   "execution_count": null,
   "id": "2dee8725",
   "metadata": {},
   "outputs": [],
   "source": [
    "df['Danh mục']=\"Giảng Viên > \" +df['Danh mục']"
   ]
  },
  {
   "cell_type": "code",
   "execution_count": null,
   "id": "03a1db2e",
   "metadata": {},
   "outputs": [],
   "source": [
    "df['Danh mục'][833]='Giảng Viên > 123VIETNAMESE, Ngoại Ngữ'"
   ]
  },
  {
   "cell_type": "code",
   "execution_count": null,
   "id": "342a3ce0",
   "metadata": {},
   "outputs": [],
   "source": [
    "df['Danh mục'][833]"
   ]
  },
  {
   "cell_type": "code",
   "execution_count": null,
   "id": "435a6627",
   "metadata": {},
   "outputs": [],
   "source": [
    ".to_csv(r'C:\\Users\\DELL\\Desktop\\DSSP_unica_total.csv')"
   ]
  },
  {
   "cell_type": "code",
   "execution_count": null,
   "id": "063c8d89",
   "metadata": {},
   "outputs": [],
   "source": [
    "df=pd.read_csv(r'C:\\Users\\DELL\\Desktop\\DSSP_unica_lifestyle.csv')"
   ]
  },
  {
   "cell_type": "code",
   "execution_count": null,
   "id": "0e6a1d78",
   "metadata": {},
   "outputs": [],
   "source": [
    "df['Danh mục']"
   ]
  },
  {
   "cell_type": "code",
   "execution_count": null,
   "id": "43c9e04f",
   "metadata": {},
   "outputs": [],
   "source": []
  }
 ],
 "metadata": {
  "kernelspec": {
   "display_name": "Python 3 (ipykernel)",
   "language": "python",
   "name": "python3"
  },
  "language_info": {
   "codemirror_mode": {
    "name": "ipython",
    "version": 3
   },
   "file_extension": ".py",
   "mimetype": "text/x-python",
   "name": "python",
   "nbconvert_exporter": "python",
   "pygments_lexer": "ipython3",
   "version": "3.9.7"
  }
 },
 "nbformat": 4,
 "nbformat_minor": 5
}
